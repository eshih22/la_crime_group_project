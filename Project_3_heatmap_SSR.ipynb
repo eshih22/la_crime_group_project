{
 "cells": [
  {
   "cell_type": "code",
   "execution_count": 2,
   "id": "8c240c53",
   "metadata": {},
   "outputs": [],
   "source": [
    "import pandas as pd\n",
    "from ipyleaflet import Map, CircleMarker, Popup, MarkerCluster\n",
    "from ipywidgets import Dropdown, HTML"
   ]
  },
  {
   "cell_type": "code",
   "execution_count": 3,
   "id": "d05c6b14",
   "metadata": {},
   "outputs": [
    {
     "name": "stderr",
     "output_type": "stream",
     "text": [
      "/var/folders/gr/22f6q53d02b8h0kps1vy2dxm0000gn/T/ipykernel_1337/2937468219.py:1: DtypeWarning: Columns (14) have mixed types. Specify dtype option on import or set low_memory=False.\n",
      "  df = pd.read_csv(\"/Users/staciesauer/Desktop/Bootcamp Analysis Projects/Project 3/la_data.csv\")\n"
     ]
    }
   ],
   "source": [
    "df = pd.read_csv(\"/Users/staciesauer/Desktop/Bootcamp Analysis Projects/Project 3/la_data.csv\")"
   ]
  },
  {
   "cell_type": "code",
   "execution_count": 4,
   "id": "2231abbe",
   "metadata": {},
   "outputs": [],
   "source": [
    "# Count occurrences of each crime description\n",
    "grouped_crime_df = df.groupby(\"Crime Description\").size()\n",
    "\n",
    "# Sort grouped_crime_df by count in descending order and get the top 5\n",
    "top_5_crimes = grouped_crime_df.sort_values(ascending=False).head(5)"
   ]
  },
  {
   "cell_type": "code",
   "execution_count": 5,
   "id": "9b3057e9",
   "metadata": {},
   "outputs": [],
   "source": [
    "# Get the top 5 crime types\n",
    "top_5_crime_types = top_5_crimes.index.tolist()\n",
    "\n",
    "# Filter the DataFrame for rows where the 'Crime Description' is in the top 5 crime types\n",
    "filtered_df = df[df['Crime Description'].isin(top_5_crime_types)]"
   ]
  },
  {
   "cell_type": "code",
   "execution_count": 6,
   "id": "f9488d4b",
   "metadata": {},
   "outputs": [
    {
     "data": {
      "text/html": [
       "<div>\n",
       "<style scoped>\n",
       "    .dataframe tbody tr th:only-of-type {\n",
       "        vertical-align: middle;\n",
       "    }\n",
       "\n",
       "    .dataframe tbody tr th {\n",
       "        vertical-align: top;\n",
       "    }\n",
       "\n",
       "    .dataframe thead th {\n",
       "        text-align: right;\n",
       "    }\n",
       "</style>\n",
       "<table border=\"1\" class=\"dataframe\">\n",
       "  <thead>\n",
       "    <tr style=\"text-align: right;\">\n",
       "      <th></th>\n",
       "      <th>Division Number</th>\n",
       "      <th>Report Date</th>\n",
       "      <th>Occurence Date</th>\n",
       "      <th>Precinct</th>\n",
       "      <th>Reporting District</th>\n",
       "      <th>Crime Code</th>\n",
       "      <th>Crime Description</th>\n",
       "      <th>Modus Operandi</th>\n",
       "      <th>Victime Age</th>\n",
       "      <th>Victim Sex</th>\n",
       "      <th>...</th>\n",
       "      <th>Status Description</th>\n",
       "      <th>Crime Code 1</th>\n",
       "      <th>Crime Code 2</th>\n",
       "      <th>Crime Code 3</th>\n",
       "      <th>Crime Code 4</th>\n",
       "      <th>Location</th>\n",
       "      <th>Latitude</th>\n",
       "      <th>longitude</th>\n",
       "      <th>Month/Year</th>\n",
       "      <th>Year</th>\n",
       "    </tr>\n",
       "  </thead>\n",
       "  <tbody>\n",
       "    <tr>\n",
       "      <th>0</th>\n",
       "      <td>10304468</td>\n",
       "      <td>2020-01-08</td>\n",
       "      <td>2020-01-08 22:30:00</td>\n",
       "      <td>Southwest</td>\n",
       "      <td>377</td>\n",
       "      <td>624</td>\n",
       "      <td>BATTERY - SIMPLE ASSAULT</td>\n",
       "      <td>0444 0913</td>\n",
       "      <td>36</td>\n",
       "      <td>F</td>\n",
       "      <td>...</td>\n",
       "      <td>Adult Other</td>\n",
       "      <td>624.0</td>\n",
       "      <td>Unknown</td>\n",
       "      <td>Unknown</td>\n",
       "      <td>Unknown</td>\n",
       "      <td>1100 W  39TH                         PL</td>\n",
       "      <td>34.0141</td>\n",
       "      <td>-118.2978</td>\n",
       "      <td>2020-01-01</td>\n",
       "      <td>2020</td>\n",
       "    </tr>\n",
       "    <tr>\n",
       "      <th>1</th>\n",
       "      <td>190101086</td>\n",
       "      <td>2020-01-02</td>\n",
       "      <td>2020-01-01 03:30:00</td>\n",
       "      <td>Central</td>\n",
       "      <td>163</td>\n",
       "      <td>624</td>\n",
       "      <td>BATTERY - SIMPLE ASSAULT</td>\n",
       "      <td>0416 1822 1414</td>\n",
       "      <td>25</td>\n",
       "      <td>M</td>\n",
       "      <td>...</td>\n",
       "      <td>Invest Cont</td>\n",
       "      <td>624.0</td>\n",
       "      <td>Unknown</td>\n",
       "      <td>Unknown</td>\n",
       "      <td>Unknown</td>\n",
       "      <td>700 S  HILL                         ST</td>\n",
       "      <td>34.0459</td>\n",
       "      <td>-118.2545</td>\n",
       "      <td>2020-01-01</td>\n",
       "      <td>2020</td>\n",
       "    </tr>\n",
       "    <tr>\n",
       "      <th>10</th>\n",
       "      <td>200100509</td>\n",
       "      <td>2020-01-04</td>\n",
       "      <td>2020-01-04 22:00:00</td>\n",
       "      <td>Central</td>\n",
       "      <td>192</td>\n",
       "      <td>330</td>\n",
       "      <td>BURGLARY FROM VEHICLE</td>\n",
       "      <td>1822 1414 0344 1307</td>\n",
       "      <td>29</td>\n",
       "      <td>M</td>\n",
       "      <td>...</td>\n",
       "      <td>Invest Cont</td>\n",
       "      <td>330.0</td>\n",
       "      <td>Unknown</td>\n",
       "      <td>Unknown</td>\n",
       "      <td>Unknown</td>\n",
       "      <td>15TH</td>\n",
       "      <td>34.0359</td>\n",
       "      <td>-118.2648</td>\n",
       "      <td>2020-01-01</td>\n",
       "      <td>2020</td>\n",
       "    </tr>\n",
       "    <tr>\n",
       "      <th>18</th>\n",
       "      <td>210916801</td>\n",
       "      <td>2021-11-22</td>\n",
       "      <td>2020-11-19 12:00:00</td>\n",
       "      <td>Van Nuys</td>\n",
       "      <td>932</td>\n",
       "      <td>354</td>\n",
       "      <td>THEFT OF IDENTITY</td>\n",
       "      <td>1501 1822</td>\n",
       "      <td>46</td>\n",
       "      <td>M</td>\n",
       "      <td>...</td>\n",
       "      <td>Invest Cont</td>\n",
       "      <td>354.0</td>\n",
       "      <td>Unknown</td>\n",
       "      <td>Unknown</td>\n",
       "      <td>Unknown</td>\n",
       "      <td>14700    FRIAR                        ST</td>\n",
       "      <td>34.1857</td>\n",
       "      <td>-118.4574</td>\n",
       "      <td>2020-11-01</td>\n",
       "      <td>2020</td>\n",
       "    </tr>\n",
       "    <tr>\n",
       "      <th>20</th>\n",
       "      <td>200914517</td>\n",
       "      <td>2020-09-10</td>\n",
       "      <td>2020-09-09 17:35:00</td>\n",
       "      <td>Van Nuys</td>\n",
       "      <td>909</td>\n",
       "      <td>354</td>\n",
       "      <td>THEFT OF IDENTITY</td>\n",
       "      <td>0377 1822 0928</td>\n",
       "      <td>40</td>\n",
       "      <td>M</td>\n",
       "      <td>...</td>\n",
       "      <td>Invest Cont</td>\n",
       "      <td>354.0</td>\n",
       "      <td>Unknown</td>\n",
       "      <td>Unknown</td>\n",
       "      <td>Unknown</td>\n",
       "      <td>13600    LEADWELL                     ST</td>\n",
       "      <td>34.2039</td>\n",
       "      <td>-118.4312</td>\n",
       "      <td>2020-09-01</td>\n",
       "      <td>2020</td>\n",
       "    </tr>\n",
       "  </tbody>\n",
       "</table>\n",
       "<p>5 rows × 23 columns</p>\n",
       "</div>"
      ],
      "text/plain": [
       "    Division Number Report Date      Occurence Date   Precinct  \\\n",
       "0          10304468  2020-01-08 2020-01-08 22:30:00  Southwest   \n",
       "1         190101086  2020-01-02 2020-01-01 03:30:00    Central   \n",
       "10        200100509  2020-01-04 2020-01-04 22:00:00    Central   \n",
       "18        210916801  2021-11-22 2020-11-19 12:00:00   Van Nuys   \n",
       "20        200914517  2020-09-10 2020-09-09 17:35:00   Van Nuys   \n",
       "\n",
       "    Reporting District  Crime Code         Crime Description  \\\n",
       "0                  377         624  BATTERY - SIMPLE ASSAULT   \n",
       "1                  163         624  BATTERY - SIMPLE ASSAULT   \n",
       "10                 192         330     BURGLARY FROM VEHICLE   \n",
       "18                 932         354         THEFT OF IDENTITY   \n",
       "20                 909         354         THEFT OF IDENTITY   \n",
       "\n",
       "         Modus Operandi  Victime Age Victim Sex  ... Status Description  \\\n",
       "0             0444 0913           36          F  ...        Adult Other   \n",
       "1        0416 1822 1414           25          M  ...        Invest Cont   \n",
       "10  1822 1414 0344 1307           29          M  ...        Invest Cont   \n",
       "18            1501 1822           46          M  ...        Invest Cont   \n",
       "20       0377 1822 0928           40          M  ...        Invest Cont   \n",
       "\n",
       "   Crime Code 1 Crime Code 2 Crime Code 3 Crime Code 4  \\\n",
       "0         624.0      Unknown      Unknown      Unknown   \n",
       "1         624.0      Unknown      Unknown      Unknown   \n",
       "10        330.0      Unknown      Unknown      Unknown   \n",
       "18        354.0      Unknown      Unknown      Unknown   \n",
       "20        354.0      Unknown      Unknown      Unknown   \n",
       "\n",
       "                                    Location Latitude longitude  Month/Year  \\\n",
       "0    1100 W  39TH                         PL  34.0141 -118.2978  2020-01-01   \n",
       "1     700 S  HILL                         ST  34.0459 -118.2545  2020-01-01   \n",
       "10                                      15TH  34.0359 -118.2648  2020-01-01   \n",
       "18  14700    FRIAR                        ST  34.1857 -118.4574  2020-11-01   \n",
       "20  13600    LEADWELL                     ST  34.2039 -118.4312  2020-09-01   \n",
       "\n",
       "    Year  \n",
       "0   2020  \n",
       "1   2020  \n",
       "10  2020  \n",
       "18  2020  \n",
       "20  2020  \n",
       "\n",
       "[5 rows x 23 columns]"
      ]
     },
     "execution_count": 6,
     "metadata": {},
     "output_type": "execute_result"
    }
   ],
   "source": [
    "# Create a new DataFrame with the modifications\n",
    "top_crimes_df = filtered_df.copy()  # Make a copy of the original DataFrame\n",
    "\n",
    "# Convert the 'Occurrence Date' column to datetime format\n",
    "top_crimes_df['Occurence Date'] = pd.to_datetime(top_crimes_df['Occurence Date'])\n",
    "\n",
    "# Extract just the year\n",
    "top_crimes_df['Year'] = top_crimes_df['Occurence Date'].dt.year\n",
    "\n",
    "# Print the new DataFrame with the 'Year' column\n",
    "top_crimes_df.head()\n"
   ]
  },
  {
   "cell_type": "code",
   "execution_count": null,
   "id": "54d8bff3",
   "metadata": {},
   "outputs": [],
   "source": [
    "# Function to add circle markers for selected criteria\n",
    "def add_markers(top_crimes_df, year, precinct, crime_description):\n",
    "    # Clear existing markers from the marker cluster\n",
    "    #marker_cluster.clearMarkers()\n",
    "    \n",
    "    # Filter DataFrame based on selected criteria\n",
    "    selected_data = new_filtered_df[\n",
    "        (top_crimes_df['Year'] == year) &\n",
    "        (top_crimes_df['Precinct'] == precinct) &\n",
    "        (top_crimes_df['Crime Description'] == crime_description)\n",
    "    ]\n",
    "    \n",
    "    # Add circle markers for selected data\n",
    "    for _, row in selected_data.iterrows():\n",
    "        circle_marker = CircleMarker(location=(row['Latitude'], row['longitude']), radius=5, color='green', fill_color='green', fill_opacity=0.5)\n",
    "        popup_content = HTML(value=row['Crime Description'])\n",
    "        popup = Popup(location=(row['Latitude'], row['longitude']), child=popup_content)\n",
    "        circle_marker.popup = popup\n",
    "        m.add_layer(circle_marker)  # Add circle marker to the map\n",
    "        \n",
    "          # Refresh the map display\n",
    "    display(m)\n",
    "\n",
    "#layer group and loop through manually."
   ]
  },
  {
   "cell_type": "code",
   "execution_count": null,
   "id": "20148b8f",
   "metadata": {},
   "outputs": [],
   "source": [
    "# Event handler for dropdowns\n",
    "def on_dropdown_change(change):\n",
    "    if change['name'] == 'value':\n",
    "        year = year_dropdown.value\n",
    "        precinct = precinct_dropdown.value\n",
    "        crime_description = crime_dropdown.value\n",
    "        add_markers(top_crimes_df, year, precinct, crime_description)"
   ]
  },
  {
   "cell_type": "code",
   "execution_count": 19,
   "id": "41240245",
   "metadata": {
    "scrolled": false
   },
   "outputs": [
    {
     "data": {
      "application/vnd.jupyter.widget-view+json": {
       "model_id": "14df4072e69e44aa9e5f7a7d497a08b5",
       "version_major": 2,
       "version_minor": 0
      },
      "text/plain": [
       "Dropdown(description='Year:', options=(2020, 2023, 2021, 2022), value=2020)"
      ]
     },
     "metadata": {},
     "output_type": "display_data"
    },
    {
     "data": {
      "application/vnd.jupyter.widget-view+json": {
       "model_id": "451430c5dd94401c90ea93a08cd4e9fa",
       "version_major": 2,
       "version_minor": 0
      },
      "text/plain": [
       "Dropdown(description='Precinct:', options=('Southwest', 'Central', 'Van Nuys', 'West Valley', 'Northeast', 'We…"
      ]
     },
     "metadata": {},
     "output_type": "display_data"
    },
    {
     "data": {
      "application/vnd.jupyter.widget-view+json": {
       "model_id": "e38310c140ea46719e689e7125085350",
       "version_major": 2,
       "version_minor": 0
      },
      "text/plain": [
       "Dropdown(description='Crime:', options=('BATTERY - SIMPLE ASSAULT', 'BURGLARY FROM VEHICLE', 'THEFT OF IDENTIT…"
      ]
     },
     "metadata": {},
     "output_type": "display_data"
    },
    {
     "data": {
      "application/vnd.jupyter.widget-view+json": {
       "model_id": "3812151e573d47488dfa4f1e65d5b472",
       "version_major": 2,
       "version_minor": 0
      },
      "text/plain": [
       "Map(center=[34.052235, -118.243683], controls=(ZoomControl(options=['position', 'zoom_in_text', 'zoom_in_title…"
      ]
     },
     "metadata": {},
     "output_type": "display_data"
    }
   ],
   "source": [
    "from collections import defaultdict\n",
    "\n",
    "# Function to clear existing markers from the map\n",
    "def clear_markers():\n",
    "    for layer in m.layers:\n",
    "        if isinstance(layer, CircleMarker):\n",
    "            m.remove_layer(layer)\n",
    "\n",
    "# Function to add circle markers for selected criteria\n",
    "def add_markers(year, precinct, crime_description):\n",
    "    # Clear existing markers\n",
    "    clear_markers()\n",
    "    \n",
    "    # Filter DataFrame based on selected criteria\n",
    "    selected_data = top_crimes_df[\n",
    "        (top_crimes_df['Year'] == year) &\n",
    "        (top_crimes_df['Precinct'] == precinct) &\n",
    "        (top_crimes_df['Crime Description'] == crime_description)\n",
    "    ]\n",
    "    \n",
    "# Create a map centered around your area of interest\n",
    "m = Map(center=(34.052235, -118.243683), zoom=10)\n",
    "\n",
    "# Create an empty MarkerCluster layer\n",
    "marker_cluster = MarkerCluster()\n",
    "\n",
    "# Iterate over your dataset and add markers to the MarkerCluster\n",
    "for index, row in data.iterrows():\n",
    "    marker = Marker(location=(row['Latitude'], row['Longitude']))\n",
    "    marker_cluster.add_layer(marker)\n",
    "\n",
    "# Add the MarkerCluster layer to the map\n",
    "m.add_layer(marker_cluster)\n",
    "\n",
    "# Display the map\n",
    "    # Count occurrences of each crime type and get unique crime types\n",
    "    crime_counts = defaultdict(int)\n",
    "    unique_crime_types = selected_data['Crime Description'].unique()\n",
    "    \n",
    "    for _, row in selected_data.iterrows():\n",
    "        crime_counts[row['Crime Description']] += 1\n",
    "    \n",
    "    # Create a color mapping for each unique crime type\n",
    "    colors = {crime_type: f'#{i:06x}' for i, crime_type in enumerate(unique_crime_types)}\n",
    "    \n",
    "    # Add circle markers for selected data\n",
    "    for _, row in selected_data.iterrows():\n",
    "        crime_type = row['Crime Description']\n",
    "        color = colors[crime_type]  # Choose color from the mapping\n",
    "        circle_marker = CircleMarker(location=(row['Latitude'], row['longitude']), radius=5, color=color, fill_color=color, fill_opacity=0.5)\n",
    "        popup_content = f\"<b>Crime Type:</b> {crime_type}<br><b>Count:</b> {crime_counts[crime_type]}<br><b>Precinct:</b> {precinct}<br><b>Year:</b> {year}\"\n",
    "        popup = Popup(location=(row['Latitude'], row['longitude']), child=HTML(value=popup_content))\n",
    "        circle_marker.popup = popup\n",
    "        m.add_layer(circle_marker)  # Add circle marker to the map\n",
    "\n",
    "# Event handler for dropdowns\n",
    "def on_dropdown_change(change):\n",
    "    if change['name'] == 'value':\n",
    "        year = year_dropdown.value\n",
    "        precinct = precinct_dropdown.value\n",
    "        crime_description = crime_dropdown.value\n",
    "        add_markers(year, precinct, crime_description)\n",
    "\n",
    "# Define the bounds\n",
    "west_bound = (33.0, -119.0)  # Decreased latitude and increased longitude\n",
    "east_bound = (35.0, -117.0)  # Increased latitude and decreased longitude\n",
    "\n",
    "# Create a map\n",
    "m = Map(center=(34.052235, -118.243683), zoom=10)\n",
    "\n",
    "# Fit the bounds of the map\n",
    "m.fit_bounds([west_bound, east_bound])\n",
    "\n",
    "# Get unique years, precincts, and crime descriptions\n",
    "unique_years = top_crimes_df['Year'].unique()\n",
    "unique_precincts = top_crimes_df['Precinct'].unique()\n",
    "unique_crime_descriptions = top_crimes_df['Crime Description'].unique()\n",
    "\n",
    "# Create dropdown menus\n",
    "year_dropdown = Dropdown(options=unique_years, description='Year:')\n",
    "precinct_dropdown = Dropdown(options=unique_precincts, description='Precinct:')\n",
    "crime_dropdown = Dropdown(options=unique_crime_descriptions, description='Crime:')\n",
    "\n",
    "year_dropdown.observe(on_dropdown_change)\n",
    "precinct_dropdown.observe(on_dropdown_change)\n",
    "crime_dropdown.observe(on_dropdown_change)\n",
    "\n",
    "# Display the dropdown menus and the map\n",
    "display(year_dropdown, precinct_dropdown, crime_dropdown, m)\n"
   ]
  },
  {
   "cell_type": "code",
   "execution_count": 7,
   "id": "92cf6ee5",
   "metadata": {},
   "outputs": [],
   "source": [
    "top_crimes_df.to_csv('top_crimes.csv', index=False)\n"
   ]
  },
  {
   "cell_type": "code",
   "execution_count": 8,
   "id": "83b8657b",
   "metadata": {},
   "outputs": [
    {
     "data": {
      "application/vnd.jupyter.widget-view+json": {
       "model_id": "08b4df42d1d14b53b11d5fdf44297d42",
       "version_major": 2,
       "version_minor": 0
      },
      "text/plain": [
       "Dropdown(description='Year:', options=(2020, 2023, 2021, 2022), value=2020)"
      ]
     },
     "metadata": {},
     "output_type": "display_data"
    },
    {
     "data": {
      "application/vnd.jupyter.widget-view+json": {
       "model_id": "04177fd0b5b440bc870b5e7dd45e5e00",
       "version_major": 2,
       "version_minor": 0
      },
      "text/plain": [
       "Dropdown(description='Precinct:', options=('Southwest', 'Central', 'Van Nuys', 'West Valley', 'Northeast', 'We…"
      ]
     },
     "metadata": {},
     "output_type": "display_data"
    },
    {
     "data": {
      "application/vnd.jupyter.widget-view+json": {
       "model_id": "41d41cf4cade437593f96b8feaa804eb",
       "version_major": 2,
       "version_minor": 0
      },
      "text/plain": [
       "Dropdown(description='Crime:', options=('BATTERY - SIMPLE ASSAULT', 'BURGLARY FROM VEHICLE', 'THEFT OF IDENTIT…"
      ]
     },
     "metadata": {},
     "output_type": "display_data"
    },
    {
     "data": {
      "application/vnd.jupyter.widget-view+json": {
       "model_id": "c9688ebf630b4ffe80b2ebae876b0386",
       "version_major": 2,
       "version_minor": 0
      },
      "text/plain": [
       "Map(center=[34.052235, -118.243683], controls=(ZoomControl(options=['position', 'zoom_in_text', 'zoom_in_title…"
      ]
     },
     "metadata": {},
     "output_type": "display_data"
    }
   ],
   "source": [
    "from collections import defaultdict\n",
    "from ipyleaflet import Map, Heatmap, FullScreenControl\n",
    "from ipywidgets import Dropdown, HTML\n",
    "\n",
    "# Function to clear existing markers from the map\n",
    "def clear_markers():\n",
    "    for layer in m.layers:\n",
    "        if isinstance(layer, (Heatmap,)):\n",
    "            m.remove_layer(layer)\n",
    "\n",
    "# Function to add markers for selected criteria\n",
    "def add_heatmap(year, precinct, crime_description):\n",
    "    # Clear existing markers\n",
    "    clear_markers()\n",
    "    \n",
    "    # Filter DataFrame based on selected criteria\n",
    "    selected_data = top_crimes_df[\n",
    "        (top_crimes_df['Year'] == year) &\n",
    "        (top_crimes_df['Precinct'] == precinct) &\n",
    "        (top_crimes_df['Crime Description'] == crime_description)\n",
    "    ]\n",
    "    \n",
    "    # Extract latitude and longitude data\n",
    "    locations = selected_data[['Latitude', 'longitude']].values.tolist()\n",
    "    \n",
    "    # Create a Heatmap layer\n",
    "    heatmap_layer = Heatmap(locations=locations, radius=10)\n",
    "    \n",
    "    # Add the Heatmap layer to the map\n",
    "    m.add_layer(heatmap_layer)\n",
    "\n",
    "# Event handler for dropdowns\n",
    "def on_dropdown_change(change):\n",
    "    if change['name'] == 'value':\n",
    "        year = year_dropdown.value\n",
    "        precinct = precinct_dropdown.value\n",
    "        crime_description = crime_dropdown.value\n",
    "        add_heatmap(year, precinct, crime_description)\n",
    "\n",
    "# Create a map centered around your area of interest\n",
    "m = Map(center=(34.052235, -118.243683), zoom=10)\n",
    "\n",
    "# Fit the bounds of the map\n",
    "m.fit_bounds([[33.0, -119.0], [35.0, -117.0]])\n",
    "\n",
    "# Get unique years, precincts, and crime descriptions\n",
    "unique_years = top_crimes_df['Year'].unique()\n",
    "unique_precincts = top_crimes_df['Precinct'].unique()\n",
    "unique_crime_descriptions = top_crimes_df['Crime Description'].unique()\n",
    "\n",
    "# Create dropdown menus\n",
    "year_dropdown = Dropdown(options=unique_years, description='Year:')\n",
    "precinct_dropdown = Dropdown(options=unique_precincts, description='Precinct:')\n",
    "crime_dropdown = Dropdown(options=unique_crime_descriptions, description='Crime:')\n",
    "\n",
    "year_dropdown.observe(on_dropdown_change)\n",
    "precinct_dropdown.observe(on_dropdown_change)\n",
    "crime_dropdown.observe(on_dropdown_change)\n",
    "\n",
    "# Display the dropdown menus and the map\n",
    "display(year_dropdown, precinct_dropdown, crime_dropdown, m)\n",
    "#heatmap to use\n"
   ]
  },
  {
   "cell_type": "code",
   "execution_count": null,
   "id": "78aaa6f9",
   "metadata": {},
   "outputs": [],
   "source": []
  },
  {
   "cell_type": "code",
   "execution_count": 34,
   "id": "abf6b493",
   "metadata": {},
   "outputs": [
    {
     "data": {
      "application/vnd.jupyter.widget-view+json": {
       "model_id": "cd5d42b658ae4c898a9e1beee4a8ff2c",
       "version_major": 2,
       "version_minor": 0
      },
      "text/plain": [
       "Dropdown(description='Year:', options=(2020, 2023, 2021, 2022), value=2020)"
      ]
     },
     "metadata": {},
     "output_type": "display_data"
    },
    {
     "data": {
      "application/vnd.jupyter.widget-view+json": {
       "model_id": "e2a3ff0f72e04af2934470af1993517c",
       "version_major": 2,
       "version_minor": 0
      },
      "text/plain": [
       "Dropdown(description='Precinct:', options=('Southwest', 'Central', 'Van Nuys', 'West Valley', 'Northeast', 'We…"
      ]
     },
     "metadata": {},
     "output_type": "display_data"
    },
    {
     "data": {
      "application/vnd.jupyter.widget-view+json": {
       "model_id": "d2791b1c44f342829ed72b67aa6e3eb5",
       "version_major": 2,
       "version_minor": 0
      },
      "text/plain": [
       "Map(center=[34.052235, -118.243683], controls=(ZoomControl(options=['position', 'zoom_in_text', 'zoom_in_title…"
      ]
     },
     "metadata": {},
     "output_type": "display_data"
    }
   ],
   "source": [
    "from collections import defaultdict\n",
    "from ipyleaflet import Map, Heatmap, Popup, FullScreenControl, LayerGroup\n",
    "from ipywidgets import Dropdown, HTML\n",
    "\n",
    "# Function to clear existing layers from the map\n",
    "def clear_layers():\n",
    "    for layer in m.layers:\n",
    "        if isinstance(layer, LayerGroup):\n",
    "            m.remove_layer(layer)\n",
    "\n",
    "# Function to add heatmap and popups for selected criteria\n",
    "def add_heatmap_with_popups(year, precinct):\n",
    "    # Clear existing layers\n",
    "    clear_layers()\n",
    "    \n",
    "    # Filter DataFrame based on selected criteria\n",
    "    selected_data = top_crimes_df[\n",
    "        (top_crimes_df['Year'] == year) &\n",
    "        (top_crimes_df['Precinct'] == precinct)\n",
    "    ]\n",
    "    \n",
    "    # Aggregate crime counts per category\n",
    "    crime_counts = defaultdict(int)\n",
    "    for _, row in selected_data.iterrows():\n",
    "        crime_counts[row['Crime Description']] += 1\n",
    "    \n",
    "    # Create a LayerGroup for popups\n",
    "    layer_group = LayerGroup()\n",
    "    \n",
    "    # Create a Heatmap layer\n",
    "    locations = selected_data[['Latitude', 'longitude']].values.tolist()\n",
    "    heatmap_layer = Heatmap(locations=locations, radius=10)\n",
    "    \n",
    "    # Add the Heatmap layer to the LayerGroup\n",
    "    layer_group.add_layer(heatmap_layer)\n",
    "    \n",
    "    # Add popups for each neighborhood with crime counts per category\n",
    "    for neighborhood, count in crime_counts.items():\n",
    "        popup_content = f\"<b>Neighborhood:</b> {precinct}<br><b>Total Crimes:</b> {count}<br>\"\n",
    "        popup = Popup(location=(selected_data.iloc[0]['Latitude'], selected_data.iloc[0]['longitude']), child=HTML(value=popup_content))\n",
    "        layer_group.add_layer(popup)\n",
    "    \n",
    "    # Add the LayerGroup to the map\n",
    "    m.add_layer(layer_group)\n",
    "\n",
    "# Event handler for dropdowns\n",
    "def on_dropdown_change(change):\n",
    "    if change['name'] == 'value':\n",
    "        year = year_dropdown.value\n",
    "        precinct = precinct_dropdown.value\n",
    "        add_heatmap_with_popups(year, precinct)\n",
    "\n",
    "# Create a map centered around your area of interest\n",
    "m = Map(center=(34.052235, -118.243683), zoom=10)\n",
    "\n",
    "# Fit the bounds of the map\n",
    "m.fit_bounds([[33.0, -119.0], [35.0, -117.0]])\n",
    "\n",
    "# Get unique years and precincts\n",
    "unique_years = top_crimes_df['Year'].unique()\n",
    "unique_precincts = top_crimes_df['Precinct'].unique()\n",
    "\n",
    "# Create dropdown menus\n",
    "year_dropdown = Dropdown(options=unique_years, description='Year:')\n",
    "precinct_dropdown = Dropdown(options=unique_precincts, description='Precinct:')\n",
    "\n",
    "year_dropdown.observe(on_dropdown_change)\n",
    "precinct_dropdown.observe(on_dropdown_change)\n",
    "\n",
    "# Display the dropdown menus and the map\n",
    "display(year_dropdown, precinct_dropdown, m)\n"
   ]
  },
  {
   "cell_type": "code",
   "execution_count": null,
   "id": "75e5b88b",
   "metadata": {},
   "outputs": [],
   "source": [
    "# Check the range of latitude values\n",
    "min_latitude = top_crimes_df['Latitude'].min()\n",
    "max_latitude = top_crimes_df['Latitude'].max()\n",
    "\n",
    "# Check the range of longitude values\n",
    "min_longitude = top_crimes_df['longitude'].min()\n",
    "max_longitude = top_crimes_df['longitude'].max()\n",
    "\n",
    "print(\"Latitude range:\", min_latitude, \"to\", max_latitude)\n",
    "print(\"Longitude range:\", min_longitude, \"to\", max_longitude)\n"
   ]
  },
  {
   "cell_type": "code",
   "execution_count": null,
   "id": "73505c0d",
   "metadata": {},
   "outputs": [],
   "source": [
    "print((34.052235, -118.243683))\n"
   ]
  },
  {
   "cell_type": "code",
   "execution_count": null,
   "id": "b353d1c9",
   "metadata": {},
   "outputs": [],
   "source": [
    "print(top_crimes_df.columns)\n"
   ]
  },
  {
   "cell_type": "code",
   "execution_count": null,
   "id": "d03db5ce",
   "metadata": {},
   "outputs": [],
   "source": [
    "# Check for NaN values in the 'Latitude' column\n",
    "nan_values = top_crimes_df['Latitude'].isna().sum()\n",
    "\n",
    "# Print the number of NaN values\n",
    "print(\"Number of NaN values in the 'Latitude' column:\", nan_values)\n"
   ]
  },
  {
   "cell_type": "code",
   "execution_count": null,
   "id": "33b60478",
   "metadata": {},
   "outputs": [],
   "source": []
  }
 ],
 "metadata": {
  "kernelspec": {
   "display_name": "Python 3 (ipykernel)",
   "language": "python",
   "name": "python3"
  },
  "language_info": {
   "codemirror_mode": {
    "name": "ipython",
    "version": 3
   },
   "file_extension": ".py",
   "mimetype": "text/x-python",
   "name": "python",
   "nbconvert_exporter": "python",
   "pygments_lexer": "ipython3",
   "version": "3.10.13"
  }
 },
 "nbformat": 4,
 "nbformat_minor": 5
}
